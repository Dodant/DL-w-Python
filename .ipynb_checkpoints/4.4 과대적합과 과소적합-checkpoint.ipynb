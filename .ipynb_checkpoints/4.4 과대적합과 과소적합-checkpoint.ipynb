{
 "cells": [
  {
   "cell_type": "code",
   "execution_count": 1,
   "metadata": {},
   "outputs": [
    {
     "name": "stderr",
     "output_type": "stream",
     "text": [
      "Using TensorFlow backend.\n"
     ]
    },
    {
     "data": {
      "text/plain": [
       "'2.2.4'"
      ]
     },
     "execution_count": 1,
     "metadata": {},
     "output_type": "execute_result"
    }
   ],
   "source": [
    "import keras\n",
    "keras.__version__"
   ]
  },
  {
   "cell_type": "markdown",
   "metadata": {},
   "source": [
    "# 과대적합과 과소적합\n",
    "\n",
    "이 노트북은 [케라스 창시자에게 배우는 딥러닝](https://tensorflow.blog/케라스-창시자에게-배우는-딥러닝/) 책의 4장 4절의 코드 예제입니다. 책에는 더 많은 내용과 그림이 있습니다. 이 노트북에는 소스 코드에 관련된 설명만 포함합니다. 이 노트북의 설명은 케라스 버전 2.2.2에 맞추어져 있습니다. 케라스 최신 버전이 릴리스되면 노트북을 다시 테스트하기 때문에 설명과 코드의 결과가 조금 다를 수 있습니다.\n",
    "\n",
    "----\n",
    "\n",
    "이전 장에 있던 세 가지 예제인 영화 리뷰 예측, 토픽 분류, 주택 가격 회귀 모두 홀드아웃 데이터에서 모델의 성능이 몇 번의 에포크 후에 최고치에 다다랐다가 감소되기 시작했습니다. 즉, 모델이 금방 훈련 데이터에 과대적합되기 시작합니다. 과대적합은 모든 머신 러닝 문제에서 발생합니다. 머신 러닝을 마스터하려면 과대적합을 다루는 방법을 꼭 배워야 합니다.\n",
    "\n",
    "머신 러닝의 근본적인 이슈는 최적화와 일반화 사이의 줄다리기입니다. 최적화는 가능한 훈련 데이터에서 최고의 성능을 얻으려고 모델을 조정하는 과정입니다(머신 러닝의 학습). 반면 일반화는 훈련된 모델이 이전에 본 적 없는 데이터에서 얼마나 잘 수행되는지를 의미합니다. 물론 모델을 만드는 목적은 좋은 일반화 성능을 얻는 것입니다. 하지만 일반화 성능을 제어할 방법이 없습니다. 단지 훈련 데이터를 기반으로 모델을 조정할 수만 있습니다.\n",
    "\n",
    "훈련 초기에 최적화와 일반화는 상호 연관되어 있습니다. 훈련 데이터의 손실이 낮을수록 테스트 데이터의 손실이 낮습니다. 이런 상황이 발생할 때 모델이 과소적합되었다고 말합니다. 모델의 성능이 계속 발전될 여지가 있습니다. 즉, 네트워크가 훈련 데이터에 있는 관련 특성을 모두 학습하지 못했습니다. 하지만 훈련 데이터에 여러 번 반복 학습하고 나면 어느 시점부터 일반화 성능이 더이상 높아지지 않습니다. 검증 세트의 성능이 멈추고 감소되기 시작합니다. 즉, 모델이 과대적합되기 시작합니다. 이는 훈련 데이터에 특화된 패턴을 학습하기 시작했다는 의미입니다. 이 패턴은 새로운 데이터와 관련성이 적어 잘못된 판단을 하게 만듭니다.\n",
    "\n",
    "모델이 관련성이 없고 좋지 못한 패턴을 훈련 데이터에서 학습하지 못하도록 하려면 가장 좋은 방법은 더 많은 훈련 데이터를 모으는 것입니다. 더 많은 데이터에서 훈련된 모델은 자연히 일반화 성능이 더 뛰어 납니다. 데이터를 더 모으는 것이 불가능할 때 차선책은 모델이 수용할 수 있는 정보의 양을 조절하거나 저장할 수 있는 정보에 제약을 가하는 것입니다. 네트워크가 적은 수의 패턴만을 기억할 수 있다면 최적화 과정에서 가장 중요한 패턴에 집중하게 될 것입니다. 이런 패턴은 더 나은 일반화 성능을 제공할 수 있습니다.\n",
    "\n",
    "이런 식으로 과대적합을 피하는 처리 과정을 규제라고 합니다. 가장 널리 사용되는 규제 기법을 알아보고 이전 장에서 본 영화 리뷰 분류 모델에 실제로 적용해 성능을 향상시켜 보겠습니다."
   ]
  },
  {
   "cell_type": "markdown",
   "metadata": {},
   "source": [
    "노트: 이 노트북에서는 편의상 IMDB 테스트 세트를 검증 세트로 사용합니다.\n",
    "\n",
    "3장 5절에 있는 코드를 사용해 데이터를 준비합니다:"
   ]
  },
  {
   "cell_type": "code",
   "execution_count": 2,
   "metadata": {},
   "outputs": [],
   "source": [
    "from keras.datasets import imdb\n",
    "import numpy as np\n",
    "\n",
    "(train_data, train_labels), (test_data, test_labels) = imdb.load_data(num_words=10000)\n",
    "\n",
    "def vectorize_sequences(sequences, dimension=10000):\n",
    "    # 크기가 (len(sequences), dimension))이고 모든 원소가 0인 행렬을 만듭니다\n",
    "    results = np.zeros((len(sequences), dimension))\n",
    "    for i, sequence in enumerate(sequences):\n",
    "        results[i, sequence] = 1.  # results[i]에서 특정 인덱스의 위치를 1로 만듭니다\n",
    "    return results\n",
    "\n",
    "# 훈련 데이터를 벡터로 변환합니다\n",
    "x_train = vectorize_sequences(train_data)\n",
    "# 테스트 데이터를 벡터로 변환합니다\n",
    "x_test = vectorize_sequences(test_data)\n",
    "# 레이블을 벡터로 변환합니다\n",
    "y_train = np.asarray(train_labels).astype('float32')\n",
    "y_test = np.asarray(test_labels).astype('float32')"
   ]
  },
  {
   "cell_type": "markdown",
   "metadata": {},
   "source": [
    "# 과대적합\n",
    "\n",
    "## 네트워크 크기 축소\n",
    "\n",
    "과대적합을 막는 가장 단순한 방법은 모델의 크기, 즉 모델에 있는 학습 파라미터의 수를 줄이는 것입니다. 파라미터의 수는 층의 수와 각 층의 유닛 수에 의해 결정됩니다. 딥러닝에서 모델에 있는 학습 파라미터의 수를 종종 모델의 용량이라고 말합니다. 당연하게 파라미터가 많은 모델이 기억 용량이 더 많습니다. 훈련 샘플과 타깃 사이를 딕셔너리와 같은 1:1 매핑으로 완벽하게 학습할 수도 있습니다. 이런 매핑은 일반화 능력이 없습니다. 예를 들어 500,000개의 이진 파라미터가 있는 모델은 MNIST 훈련 세트의 숫자 이미지의 클래스를 쉽게 모두 학습할 수 있습니다. 50,000개의 숫자 이미지 하나마다 10개의 이진 파라미터만 있으면 됩니다. 하지만 이런 모델은 새로운 숫자 샘플을 분류하는 용도로는 쓸모가 없습니다. 항상 유념해야 할 것은 딥러닝 모델은 훈련 데이터에 잘 맞으려는 경향을 가진다는 점입니다. 하지만 진짜 문제는 최적화가 아니고 일반화입니다.\n",
    "\n",
    "다른 한편으로 네트워크가 기억 용량에 제한이 있다면 이런 매핑을 쉽게 학습하지 못할 것입니다. 따라서 손실을 최소화하기 위해 타깃에 대한 예측 성능을 가진 압축된 표현을 학습해야 합니다. 정확히 이런 표현이 우리의 관심 대상입니다. 동시에 기억해야할 것은 과소적합되지 않도록 충분한 파라미터를 가진 모델을 사용해야 한다는 점입니다. 모델의 기억 용량이 부족해서는 안 됩니다. 너무 많은 용량과 충분하지 않은 용량 사이의 절충점을 찾아야 합니다.\n",
    "\n",
    "안타깝지만 알맞은 층의 수나 각 층의 유닛 수를 결정할 수 있는 마법 같은 공식은 없습니다. 데이터에 알맞는 모델 크기를 찾으려면 각기 다른 구조를 (당연히 테스트 세트가 아니고 검증 세트에서) 평가해 보아야 합니다. 적절한 모델 크기를 찾는 일반적인 작업 흐름은 비교적 적은 수의 층과 파라미터로 시작합니다. 그다음 검증 손실이 감소되기 시작할 때까지 층이나 유닛의 수를 늘리는 것입니다.\n",
    "\n",
    "영화 리뷰 분류 모델에 적용해 보죠. 원래 네트워크는 다음과 같습니다:"
   ]
  },
  {
   "cell_type": "code",
   "execution_count": 3,
   "metadata": {
    "collapsed": true
   },
   "outputs": [
    {
     "name": "stderr",
     "output_type": "stream",
     "text": [
      "WARNING: Logging before flag parsing goes to stderr.\n",
      "W0216 19:19:27.130586 4550782400 deprecation_wrapper.py:119] From /Users/Dodanto/anaconda3/lib/python3.7/site-packages/keras/backend/tensorflow_backend.py:74: The name tf.get_default_graph is deprecated. Please use tf.compat.v1.get_default_graph instead.\n",
      "\n",
      "W0216 19:19:27.188382 4550782400 deprecation_wrapper.py:119] From /Users/Dodanto/anaconda3/lib/python3.7/site-packages/keras/backend/tensorflow_backend.py:517: The name tf.placeholder is deprecated. Please use tf.compat.v1.placeholder instead.\n",
      "\n",
      "W0216 19:19:27.201794 4550782400 deprecation_wrapper.py:119] From /Users/Dodanto/anaconda3/lib/python3.7/site-packages/keras/backend/tensorflow_backend.py:4138: The name tf.random_uniform is deprecated. Please use tf.random.uniform instead.\n",
      "\n",
      "W0216 19:19:27.267013 4550782400 deprecation_wrapper.py:119] From /Users/Dodanto/anaconda3/lib/python3.7/site-packages/keras/optimizers.py:790: The name tf.train.Optimizer is deprecated. Please use tf.compat.v1.train.Optimizer instead.\n",
      "\n",
      "W0216 19:19:27.296581 4550782400 deprecation_wrapper.py:119] From /Users/Dodanto/anaconda3/lib/python3.7/site-packages/keras/backend/tensorflow_backend.py:3376: The name tf.log is deprecated. Please use tf.math.log instead.\n",
      "\n",
      "W0216 19:19:27.308031 4550782400 deprecation.py:323] From /Users/Dodanto/anaconda3/lib/python3.7/site-packages/tensorflow/python/ops/nn_impl.py:180: add_dispatch_support.<locals>.wrapper (from tensorflow.python.ops.array_ops) is deprecated and will be removed in a future version.\n",
      "Instructions for updating:\n",
      "Use tf.where in 2.0, which has the same broadcast rule as np.where\n"
     ]
    }
   ],
   "source": [
    "from keras import models\n",
    "from keras import layers\n",
    "\n",
    "original_model = models.Sequential()\n",
    "original_model.add(layers.Dense(16, activation='relu', input_shape=(10000,)))\n",
    "original_model.add(layers.Dense(16, activation='relu'))\n",
    "original_model.add(layers.Dense(1, activation='sigmoid'))\n",
    "\n",
    "original_model.compile(optimizer='rmsprop',\n",
    "                       loss='binary_crossentropy',\n",
    "                       metrics=['acc'])"
   ]
  },
  {
   "cell_type": "markdown",
   "metadata": {},
   "source": [
    "더 작은 네트워크로 바꾸어 보죠:"
   ]
  },
  {
   "cell_type": "code",
   "execution_count": 4,
   "metadata": {},
   "outputs": [],
   "source": [
    "smaller_model = models.Sequential()\n",
    "smaller_model.add(layers.Dense(6, activation='relu', input_shape=(10000,)))\n",
    "smaller_model.add(layers.Dense(6, activation='relu'))\n",
    "smaller_model.add(layers.Dense(1, activation='sigmoid'))\n",
    "\n",
    "smaller_model.compile(optimizer='rmsprop',\n",
    "                      loss='binary_crossentropy',\n",
    "                      metrics=['acc'])"
   ]
  },
  {
   "cell_type": "markdown",
   "metadata": {},
   "source": [
    "원본 네트워크와 축소된 네트워크의 검증 손실을 비교해 보죠. 점으로 표현된 것이 작은 네트워크이고 덧셈 기호가 원래 네트워크 입니다(검증 손실이 작은 것이 좋은 모델입니다)."
   ]
  },
  {
   "cell_type": "code",
   "execution_count": 5,
   "metadata": {
    "scrolled": true
   },
   "outputs": [
    {
     "name": "stderr",
     "output_type": "stream",
     "text": [
      "W0216 19:19:51.001535 4550782400 deprecation_wrapper.py:119] From /Users/Dodanto/anaconda3/lib/python3.7/site-packages/keras/backend/tensorflow_backend.py:986: The name tf.assign_add is deprecated. Please use tf.compat.v1.assign_add instead.\n",
      "\n"
     ]
    },
    {
     "name": "stdout",
     "output_type": "stream",
     "text": [
      "Train on 25000 samples, validate on 25000 samples\n",
      "Epoch 1/20\n",
      "25000/25000 [==============================] - 7s 287us/step - loss: 0.4440 - acc: 0.8252 - val_loss: 0.3286 - val_acc: 0.8834\n",
      "Epoch 2/20\n",
      "25000/25000 [==============================] - 5s 205us/step - loss: 0.2572 - acc: 0.9079 - val_loss: 0.2865 - val_acc: 0.8881\n",
      "Epoch 3/20\n",
      "25000/25000 [==============================] - 4s 141us/step - loss: 0.1992 - acc: 0.9292 - val_loss: 0.2822 - val_acc: 0.8891\n",
      "Epoch 4/20\n",
      "25000/25000 [==============================] - 3s 101us/step - loss: 0.1669 - acc: 0.9412 - val_loss: 0.2942 - val_acc: 0.8844\n",
      "Epoch 5/20\n",
      "25000/25000 [==============================] - 3s 107us/step - loss: 0.1437 - acc: 0.9497 - val_loss: 0.3118 - val_acc: 0.8806\n",
      "Epoch 6/20\n",
      "25000/25000 [==============================] - 3s 104us/step - loss: 0.1262 - acc: 0.9554 - val_loss: 0.3485 - val_acc: 0.8718\n",
      "Epoch 7/20\n",
      "25000/25000 [==============================] - 3s 102us/step - loss: 0.1122 - acc: 0.9610 - val_loss: 0.3584 - val_acc: 0.8726\n",
      "Epoch 8/20\n",
      "25000/25000 [==============================] - 3s 103us/step - loss: 0.0984 - acc: 0.9669 - val_loss: 0.3945 - val_acc: 0.8663\n",
      "Epoch 9/20\n",
      "25000/25000 [==============================] - 3s 129us/step - loss: 0.0850 - acc: 0.9716 - val_loss: 0.4201 - val_acc: 0.8652\n",
      "Epoch 10/20\n",
      "25000/25000 [==============================] - 3s 124us/step - loss: 0.0765 - acc: 0.9755 - val_loss: 0.4764 - val_acc: 0.8579\n",
      "Epoch 11/20\n",
      "25000/25000 [==============================] - 3s 123us/step - loss: 0.0697 - acc: 0.9774 - val_loss: 0.4988 - val_acc: 0.8560\n",
      "Epoch 12/20\n",
      "25000/25000 [==============================] - 3s 109us/step - loss: 0.0579 - acc: 0.9829 - val_loss: 0.5202 - val_acc: 0.8561\n",
      "Epoch 13/20\n",
      "25000/25000 [==============================] - 3s 127us/step - loss: 0.0527 - acc: 0.9836 - val_loss: 0.5333 - val_acc: 0.8588\n",
      "Epoch 14/20\n",
      "25000/25000 [==============================] - 3s 121us/step - loss: 0.0437 - acc: 0.9873 - val_loss: 0.6091 - val_acc: 0.8504\n",
      "Epoch 15/20\n",
      "25000/25000 [==============================] - 3s 114us/step - loss: 0.0373 - acc: 0.9892 - val_loss: 0.6155 - val_acc: 0.8538\n",
      "Epoch 16/20\n",
      "25000/25000 [==============================] - 3s 101us/step - loss: 0.0323 - acc: 0.9910 - val_loss: 0.6405 - val_acc: 0.8540\n",
      "Epoch 17/20\n",
      "25000/25000 [==============================] - 3s 119us/step - loss: 0.0282 - acc: 0.9918 - val_loss: 0.7564 - val_acc: 0.8421\n",
      "Epoch 18/20\n",
      "25000/25000 [==============================] - 2s 99us/step - loss: 0.0209 - acc: 0.9947 - val_loss: 0.7297 - val_acc: 0.8482\n",
      "Epoch 19/20\n",
      "25000/25000 [==============================] - 2s 98us/step - loss: 0.0220 - acc: 0.9939 - val_loss: 0.7497 - val_acc: 0.8496\n",
      "Epoch 20/20\n",
      "25000/25000 [==============================] - 2s 100us/step - loss: 0.0148 - acc: 0.9965 - val_loss: 0.8455 - val_acc: 0.8432\n"
     ]
    }
   ],
   "source": [
    "original_hist = original_model.fit(x_train, y_train,\n",
    "                                   epochs=20,\n",
    "                                   batch_size=512,\n",
    "                                   validation_data=(x_test, y_test))"
   ]
  },
  {
   "cell_type": "code",
   "execution_count": 6,
   "metadata": {
    "scrolled": true
   },
   "outputs": [
    {
     "name": "stdout",
     "output_type": "stream",
     "text": [
      "Train on 25000 samples, validate on 25000 samples\n",
      "Epoch 1/20\n",
      "25000/25000 [==============================] - 4s 159us/step - loss: 0.5670 - acc: 0.7410 - val_loss: 0.4849 - val_acc: 0.8256\n",
      "Epoch 2/20\n",
      "25000/25000 [==============================] - 3s 110us/step - loss: 0.3923 - acc: 0.8897 - val_loss: 0.3605 - val_acc: 0.8790\n",
      "Epoch 3/20\n",
      "25000/25000 [==============================] - 3s 122us/step - loss: 0.2790 - acc: 0.9176 - val_loss: 0.3015 - val_acc: 0.8879\n",
      "Epoch 4/20\n",
      "25000/25000 [==============================] - 3s 137us/step - loss: 0.2213 - acc: 0.9279 - val_loss: 0.2822 - val_acc: 0.8901\n",
      "Epoch 5/20\n",
      "25000/25000 [==============================] - 3s 128us/step - loss: 0.1874 - acc: 0.9378 - val_loss: 0.2807 - val_acc: 0.8872\n",
      "Epoch 6/20\n",
      "25000/25000 [==============================] - 3s 109us/step - loss: 0.1640 - acc: 0.9453 - val_loss: 0.2846 - val_acc: 0.8849\n",
      "Epoch 7/20\n",
      "25000/25000 [==============================] - 3s 109us/step - loss: 0.1450 - acc: 0.9523 - val_loss: 0.2941 - val_acc: 0.8826\n",
      "Epoch 8/20\n",
      "25000/25000 [==============================] - 3s 111us/step - loss: 0.1306 - acc: 0.9568 - val_loss: 0.3053 - val_acc: 0.8809\n",
      "Epoch 9/20\n",
      "25000/25000 [==============================] - 4s 165us/step - loss: 0.1164 - acc: 0.9632 - val_loss: 0.3203 - val_acc: 0.8776\n",
      "Epoch 10/20\n",
      "25000/25000 [==============================] - 4s 146us/step - loss: 0.1056 - acc: 0.9669 - val_loss: 0.3351 - val_acc: 0.8752\n",
      "Epoch 11/20\n",
      "25000/25000 [==============================] - 3s 123us/step - loss: 0.0940 - acc: 0.9706 - val_loss: 0.3547 - val_acc: 0.8731\n",
      "Epoch 12/20\n",
      "25000/25000 [==============================] - 3s 114us/step - loss: 0.0844 - acc: 0.9751 - val_loss: 0.3801 - val_acc: 0.8692\n",
      "Epoch 13/20\n",
      "25000/25000 [==============================] - 3s 102us/step - loss: 0.0755 - acc: 0.9784 - val_loss: 0.3900 - val_acc: 0.8676\n",
      "Epoch 14/20\n",
      "25000/25000 [==============================] - 3s 109us/step - loss: 0.0677 - acc: 0.9799 - val_loss: 0.4133 - val_acc: 0.8647\n",
      "Epoch 15/20\n",
      "25000/25000 [==============================] - 3s 119us/step - loss: 0.0604 - acc: 0.9831 - val_loss: 0.4374 - val_acc: 0.8628\n",
      "Epoch 16/20\n",
      "25000/25000 [==============================] - 2s 99us/step - loss: 0.0530 - acc: 0.9858 - val_loss: 0.4738 - val_acc: 0.8592\n",
      "Epoch 17/20\n",
      "25000/25000 [==============================] - 3s 119us/step - loss: 0.0474 - acc: 0.9878 - val_loss: 0.4810 - val_acc: 0.8611\n",
      "Epoch 18/20\n",
      "25000/25000 [==============================] - 3s 121us/step - loss: 0.0418 - acc: 0.9895 - val_loss: 0.5110 - val_acc: 0.8577\n",
      "Epoch 19/20\n",
      "25000/25000 [==============================] - 2s 97us/step - loss: 0.0374 - acc: 0.9910 - val_loss: 0.5293 - val_acc: 0.8588\n",
      "Epoch 20/20\n",
      "25000/25000 [==============================] - 3s 115us/step - loss: 0.0324 - acc: 0.9925 - val_loss: 0.5881 - val_acc: 0.8521\n"
     ]
    }
   ],
   "source": [
    "smaller_model_hist = smaller_model.fit(x_train, y_train,\n",
    "                                       epochs=20,\n",
    "                                       batch_size=512,\n",
    "                                       validation_data=(x_test, y_test))"
   ]
  },
  {
   "cell_type": "code",
   "execution_count": 7,
   "metadata": {},
   "outputs": [],
   "source": [
    "epochs = range(1, 21)\n",
    "original_val_loss = original_hist.history['val_loss']\n",
    "smaller_model_val_loss = smaller_model_hist.history['val_loss']"
   ]
  },
  {
   "cell_type": "code",
   "execution_count": 8,
   "metadata": {},
   "outputs": [],
   "source": [
    "import matplotlib.pyplot as plt"
   ]
  },
  {
   "cell_type": "code",
   "execution_count": 9,
   "metadata": {
    "scrolled": true
   },
   "outputs": [
    {
     "data": {
      "image/png": "[encoded data removed]",
      "text/plain": [
       "<Figure size 432x288 with 1 Axes>"
      ]
     },
     "metadata": {
      "needs_background": "light"
     },
     "output_type": "display_data"
    }
   ],
   "source": [
    "# ‘b+’는 파란색 덧셈 기호을 의미합니다\n",
    "plt.plot(epochs, original_val_loss, 'b+', label='Original model')\n",
    "# ‘bo’는 파란색 점을 의미합니다\n",
    "plt.plot(epochs, smaller_model_val_loss, 'bo', label='Smaller model')\n",
    "plt.xlabel('Epochs')\n",
    "plt.ylabel('Validation loss')\n",
    "plt.legend()\n",
    "\n",
    "plt.show()"
   ]
  },
  {
   "cell_type": "markdown",
   "metadata": {},
   "source": [
    "여기서 볼 수 있듯이 작은 네트워크가 기본 네트워크보다 더 나중에 과대적합되기 시작했습니다(네 번째 에포크가 아니라 여섯 번째 에포크에서). 과대적합이 시작되었을 때 성능이 더 천천히 감소되었습니다.\n",
    "\n",
    "이번에는 문제에 필요한 것보다 훨씬 더 많은 용량을 가진 네트워크를 비교해 보겠습니다:"
   ]
  },
  {
   "cell_type": "code",
   "execution_count": 10,
   "metadata": {},
   "outputs": [],
   "source": [
    "bigger_model = models.Sequential()\n",
    "bigger_model.add(layers.Dense(1024, activation='relu', input_shape=(10000,)))\n",
    "bigger_model.add(layers.Dense(1024, activation='relu'))\n",
    "bigger_model.add(layers.Dense(1, activation='sigmoid'))\n",
    "\n",
    "bigger_model.compile(optimizer='rmsprop',\n",
    "                     loss='binary_crossentropy',\n",
    "                     metrics=['acc'])"
   ]
  },
  {
   "cell_type": "code",
   "execution_count": 11,
   "metadata": {
    "scrolled": true
   },
   "outputs": [
    {
     "name": "stdout",
     "output_type": "stream",
     "text": [
      "Train on 25000 samples, validate on 25000 samples\n",
      "Epoch 1/20\n",
      "25000/25000 [==============================] - 27s 1ms/step - loss: 0.5574 - acc: 0.7842 - val_loss: 0.2916 - val_acc: 0.8811\n",
      "Epoch 2/20\n",
      "25000/25000 [==============================] - 34s 1ms/step - loss: 0.2219 - acc: 0.9139 - val_loss: 0.3282 - val_acc: 0.8623\n",
      "Epoch 3/20\n",
      "25000/25000 [==============================] - 26s 1ms/step - loss: 0.1281 - acc: 0.9567 - val_loss: 0.3494 - val_acc: 0.8810\n",
      "Epoch 4/20\n",
      "25000/25000 [==============================] - 24s 963us/step - loss: 0.0685 - acc: 0.9813 - val_loss: 0.4761 - val_acc: 0.8846\n",
      "Epoch 5/20\n",
      "25000/25000 [==============================] - 23s 901us/step - loss: 0.0570 - acc: 0.9874 - val_loss: 0.5483 - val_acc: 0.8842\n",
      "Epoch 6/20\n",
      "25000/25000 [==============================] - 24s 945us/step - loss: 0.1135 - acc: 0.9865 - val_loss: 0.5858 - val_acc: 0.8814\n",
      "Epoch 7/20\n",
      "25000/25000 [==============================] - 23s 918us/step - loss: 3.8522e-04 - acc: 1.0000 - val_loss: 0.6832 - val_acc: 0.8828\n",
      "Epoch 8/20\n",
      "25000/25000 [==============================] - 21s 859us/step - loss: 4.2004e-05 - acc: 1.0000 - val_loss: 0.7801 - val_acc: 0.8846\n",
      "Epoch 9/20\n",
      "25000/25000 [==============================] - 25s 1ms/step - loss: 5.2252e-06 - acc: 1.0000 - val_loss: 0.8756 - val_acc: 0.8829\n",
      "Epoch 10/20\n",
      "25000/25000 [==============================] - 22s 892us/step - loss: 7.2742e-07 - acc: 1.0000 - val_loss: 0.9470 - val_acc: 0.8829\n",
      "Epoch 11/20\n",
      "25000/25000 [==============================] - 22s 870us/step - loss: 2.0636e-07 - acc: 1.0000 - val_loss: 1.0077 - val_acc: 0.8824\n",
      "Epoch 12/20\n",
      "25000/25000 [==============================] - 32s 1ms/step - loss: 1.2988e-07 - acc: 1.0000 - val_loss: 1.0387 - val_acc: 0.8829\n",
      "Epoch 13/20\n",
      "25000/25000 [==============================] - 22s 893us/step - loss: 1.1703e-07 - acc: 1.0000 - val_loss: 1.0561 - val_acc: 0.8828\n",
      "Epoch 14/20\n",
      "25000/25000 [==============================] - 22s 870us/step - loss: 1.1361e-07 - acc: 1.0000 - val_loss: 1.0654 - val_acc: 0.8828\n",
      "Epoch 15/20\n",
      "25000/25000 [==============================] - 22s 878us/step - loss: 1.1213e-07 - acc: 1.0000 - val_loss: 1.0728 - val_acc: 0.8826\n",
      "Epoch 16/20\n",
      "25000/25000 [==============================] - 31s 1ms/step - loss: 1.1147e-07 - acc: 1.0000 - val_loss: 1.0786 - val_acc: 0.8827\n",
      "Epoch 17/20\n",
      "25000/25000 [==============================] - 30s 1ms/step - loss: 1.1097e-07 - acc: 1.0000 - val_loss: 1.0830 - val_acc: 0.8830\n",
      "Epoch 18/20\n",
      "25000/25000 [==============================] - 35s 1ms/step - loss: 1.1071e-07 - acc: 1.0000 - val_loss: 1.0874 - val_acc: 0.8827\n",
      "Epoch 19/20\n",
      "25000/25000 [==============================] - 28s 1ms/step - loss: 1.1044e-07 - acc: 1.0000 - val_loss: 1.0904 - val_acc: 0.8828\n",
      "Epoch 20/20\n",
      "25000/25000 [==============================] - 26s 1ms/step - loss: 1.1035e-07 - acc: 1.0000 - val_loss: 1.0933 - val_acc: 0.8828\n"
     ]
    }
   ],
   "source": [
    "bigger_model_hist = bigger_model.fit(x_train, y_train,\n",
    "                                     epochs=20,\n",
    "                                     batch_size=512,\n",
    "                                     validation_data=(x_test, y_test))"
   ]
  },
  {
   "cell_type": "markdown",
   "metadata": {},
   "source": [
    "다음은 더 큰 네트워크가 기본 네트워크에 비해 얼마나 차이나는지를 보여줍니다. 점이 용량이 큰 네트워크의 검증 손실이고 덧셈 기호는 원본 네트워크의 검증 손실입니다."
   ]
  },
  {
   "cell_type": "code",
   "execution_count": 12,
   "metadata": {},
   "outputs": [
    {
     "data": {
      "image/png": "[encoded data removed]",
      "text/plain": [
       "<Figure size 432x288 with 1 Axes>"
      ]
     },
     "metadata": {
      "needs_background": "light"
     },
     "output_type": "display_data"
    }
   ],
   "source": [
    "bigger_model_val_loss = bigger_model_hist.history['val_loss']\n",
    "\n",
    "plt.plot(epochs, original_val_loss, 'b+', label='Original model')\n",
    "plt.plot(epochs, bigger_model_val_loss, 'bo', label='Bigger model')\n",
    "plt.xlabel('Epochs')\n",
    "plt.ylabel('Validation loss')\n",
    "plt.legend()\n",
    "\n",
    "plt.show()"
   ]
  },
  {
   "cell_type": "markdown",
   "metadata": {},
   "source": [
    "용량이 큰 네트워크는 첫 번째 에포크 이후 거의 바로 과대적합이 시작되어 갈수록 더 심해집니다. 검증 손실도 매우 불안정합니다.\n",
    "\n",
    "다음은 두 네트워크의 훈련 손실입니다:"
   ]
  },
  {
   "cell_type": "code",
   "execution_count": 13,
   "metadata": {},
   "outputs": [
    {
     "data": {
      "image/png": "[encoded data removed]",
      "text/plain": [
       "<Figure size 432x288 with 1 Axes>"
      ]
     },
     "metadata": {
      "needs_background": "light"
     },
     "output_type": "display_data"
    }
   ],
   "source": [
    "original_train_loss = original_hist.history['loss']\n",
    "bigger_model_train_loss = bigger_model_hist.history['loss']\n",
    "\n",
    "plt.plot(epochs, original_train_loss, 'b+', label='Original model')\n",
    "plt.plot(epochs, bigger_model_train_loss, 'bo', label='Bigger model')\n",
    "plt.xlabel('Epochs')\n",
    "plt.ylabel('Training loss')\n",
    "plt.legend()\n",
    "\n",
    "plt.show()"
   ]
  },
  {
   "cell_type": "markdown",
   "metadata": {},
   "source": [
    "여기서 볼 수 있듯이 용량이 큰 네트워크는 훈련 손실이 매우 빠르게 0에 가까워집니다. 용량이 많은 네트워크일수록 더 빠르게 훈련 데이터를 모델링할 수 있습니다(결국 훈련 손실이 낮아집니다). 하지만 더욱 과대적합에 민감해집니다(결국 훈련과 검증 손실 사이에 큰 차이가 발생합니다)."
   ]
  },
  {
   "cell_type": "markdown",
   "metadata": {},
   "source": [
    "## 가중치 규제 추가\n",
    "\n",
    "오캄의 면도날 이론을 알고 있을지 모르겠습니다. 어떤 것에 대한 두 가지의 설명이 있다면 더 적은 가정을 필요하는 간단한 설명이 옳을 것이라는 이론입니다. 이 개념은 신경망으로 학습되는 모델에도 적용됩니다. 어떤 훈련 데이터와 네트워크 구조가 주어졌을 때 데이터를 설명할 수 있는 가중치 값의 집합은 여러 개(여러 개의 모델)입니다. 간단한 모델이 복잡한 모델보다 덜 과대적합될 가능성이 높습니다.\n",
    "\n",
    "여기에서 간단한 모델은 파라미터 값 분포의 엔트로피가 작은 모델입니다(또는 앞 절에서 본 것처럼 적은 수의 파라미터를 가진 모델입니다). 그러므로 과대적합을 완화시키기 위한 일반적인 방법은 네트워크의 복잡도에 제한을 두어 가중치가 작은 값을 가지도록 강제하는 것입니다. 가중치 값의 분포가 더 균일하게 됩니다. 이를 가중치 규제라고 하고 네트워크의 손실 함수에 큰 가중치에 연관된 비용을 추가합니다. 두 가지 형태의 비용이 있습니다.\n",
    "\n",
    "* L1 규제 : 가중치의 절대값에 비례하는 비용이 추가됩니다(가중치의 L1 노름).\n",
    "* L2 규제 : 가중치의 제곱에 비례하는 비용이 추가됩니다(가중치의 L2 노름). L2 규제는 신경망에서 가중치 감쇠라고도 부릅니다. 다른 이름 때문에 혼돈하지 마세요. 가중치 감쇠는 수학적으로 L2 규제와 동일합니다.\n",
    "\n",
    "케라스에서 가중치 규제 인스턴스를 층의 키워드 매개변수로 전달하여 가중치 규제를 추가할 수 있습니다. 영화 리뷰 분류 네트워크에 L2 가중치 규제를 추가해 보죠:"
   ]
  },
  {
   "cell_type": "code",
   "execution_count": 14,
   "metadata": {},
   "outputs": [],
   "source": [
    "from keras import regularizers\n",
    "\n",
    "l2_model = models.Sequential()\n",
    "l2_model.add(layers.Dense(16, kernel_regularizer=regularizers.l2(0.001),\n",
    "                          activation='relu', input_shape=(10000,)))\n",
    "l2_model.add(layers.Dense(16, kernel_regularizer=regularizers.l2(0.001),\n",
    "                          activation='relu'))\n",
    "l2_model.add(layers.Dense(1, activation='sigmoid'))"
   ]
  },
  {
   "cell_type": "code",
   "execution_count": 15,
   "metadata": {},
   "outputs": [],
   "source": [
    "l2_model.compile(optimizer='rmsprop',\n",
    "                 loss='binary_crossentropy',\n",
    "                 metrics=['acc'])"
   ]
  },
  {
   "cell_type": "markdown",
   "metadata": {},
   "source": [
    "`l2(0.001)`는 가중치 행렬의 모든 원소를 제곱하고 `0.001`을 곱하여 네트워크의 전체 손실에 더해진다는 의미입니다. 이 페널티 항은 훈련할 때만 추가됩니다. 이 네트워크의 손실은 테스트보다 훈련할 때 더 높을 것입니다.\n",
    "\n",
    "L2 규제 페널티의 효과를 확인해 보죠:"
   ]
  },
  {
   "cell_type": "code",
   "execution_count": 16,
   "metadata": {},
   "outputs": [
    {
     "name": "stdout",
     "output_type": "stream",
     "text": [
      "Train on 25000 samples, validate on 25000 samples\n",
      "Epoch 1/20\n",
      "25000/25000 [==============================] - 9s 340us/step - loss: 0.4877 - acc: 0.8152 - val_loss: 0.3893 - val_acc: 0.8662\n",
      "Epoch 2/20\n",
      "25000/25000 [==============================] - 5s 196us/step - loss: 0.3099 - acc: 0.9060 - val_loss: 0.3306 - val_acc: 0.8890\n",
      "Epoch 3/20\n",
      "25000/25000 [==============================] - 3s 132us/step - loss: 0.2652 - acc: 0.9203 - val_loss: 0.3292 - val_acc: 0.8870\n",
      "Epoch 4/20\n",
      "25000/25000 [==============================] - 3s 113us/step - loss: 0.2451 - acc: 0.9289 - val_loss: 0.3408 - val_acc: 0.8821\n",
      "Epoch 5/20\n",
      "25000/25000 [==============================] - 3s 107us/step - loss: 0.2314 - acc: 0.9350 - val_loss: 0.3814 - val_acc: 0.8682\n",
      "Epoch 6/20\n",
      "25000/25000 [==============================] - 3s 124us/step - loss: 0.2228 - acc: 0.9390 - val_loss: 0.3648 - val_acc: 0.8755\n",
      "Epoch 7/20\n",
      "25000/25000 [==============================] - 4s 144us/step - loss: 0.2159 - acc: 0.9417 - val_loss: 0.3768 - val_acc: 0.8730\n",
      "Epoch 8/20\n",
      "25000/25000 [==============================] - 5s 182us/step - loss: 0.2095 - acc: 0.9449 - val_loss: 0.3726 - val_acc: 0.8759\n",
      "Epoch 9/20\n",
      "25000/25000 [==============================] - 4s 158us/step - loss: 0.2033 - acc: 0.9469 - val_loss: 0.3770 - val_acc: 0.8754\n",
      "Epoch 10/20\n",
      "25000/25000 [==============================] - 3s 134us/step - loss: 0.1994 - acc: 0.9504 - val_loss: 0.3823 - val_acc: 0.8750\n",
      "Epoch 11/20\n",
      "25000/25000 [==============================] - 4s 142us/step - loss: 0.1935 - acc: 0.9496 - val_loss: 0.3838 - val_acc: 0.8762\n",
      "Epoch 12/20\n",
      "25000/25000 [==============================] - 8s 316us/step - loss: 0.1905 - acc: 0.9525 - val_loss: 0.3934 - val_acc: 0.8743\n",
      "Epoch 13/20\n",
      "25000/25000 [==============================] - 6s 226us/step - loss: 0.1863 - acc: 0.9546 - val_loss: 0.3968 - val_acc: 0.8734\n",
      "Epoch 14/20\n",
      "25000/25000 [==============================] - 5s 182us/step - loss: 0.1802 - acc: 0.9574 - val_loss: 0.4337 - val_acc: 0.8636\n",
      "Epoch 15/20\n",
      "25000/25000 [==============================] - 3s 117us/step - loss: 0.1784 - acc: 0.9588 - val_loss: 0.4657 - val_acc: 0.8549\n",
      "Epoch 16/20\n",
      "25000/25000 [==============================] - 4s 170us/step - loss: 0.1737 - acc: 0.9606 - val_loss: 0.4448 - val_acc: 0.8644\n",
      "Epoch 17/20\n",
      "25000/25000 [==============================] - 4s 168us/step - loss: 0.1690 - acc: 0.9624 - val_loss: 0.4205 - val_acc: 0.8707\n",
      "Epoch 18/20\n",
      "25000/25000 [==============================] - 3s 102us/step - loss: 0.1664 - acc: 0.9638 - val_loss: 0.4353 - val_acc: 0.8682\n",
      "Epoch 19/20\n",
      "25000/25000 [==============================] - 3s 127us/step - loss: 0.1626 - acc: 0.9654 - val_loss: 0.4403 - val_acc: 0.8664\n",
      "Epoch 20/20\n",
      "25000/25000 [==============================] - 3s 116us/step - loss: 0.1557 - acc: 0.9695 - val_loss: 0.4301 - val_acc: 0.8691\n"
     ]
    }
   ],
   "source": [
    "l2_model_hist = l2_model.fit(x_train, y_train,\n",
    "                             epochs=20,\n",
    "                             batch_size=512,\n",
    "                             validation_data=(x_test, y_test))"
   ]
  },
  {
   "cell_type": "code",
   "execution_count": 17,
   "metadata": {},
   "outputs": [
    {
     "data": {
      "image/png": "[encoded data removed]",
      "text/plain": [
       "<Figure size 432x288 with 1 Axes>"
      ]
     },
     "metadata": {
      "needs_background": "light"
     },
     "output_type": "display_data"
    }
   ],
   "source": [
    "l2_model_val_loss = l2_model_hist.history['val_loss']\n",
    "\n",
    "plt.plot(epochs, original_val_loss, 'b+', label='Original model')\n",
    "plt.plot(epochs, l2_model_val_loss, 'bo', label='L2-regularized model')\n",
    "plt.xlabel('Epochs')\n",
    "plt.ylabel('Validation loss')\n",
    "plt.legend()\n",
    "\n",
    "plt.show()"
   ]
  },
  {
   "cell_type": "markdown",
   "metadata": {},
   "source": [
    "여기서 볼 수 있듯이 두 모델이 동일한 파라미터 수를 가지고 있더라도 L2 규제를 사용한 모델(점)이 기본 모델(덧셈 기호)보다 훨씬 더 과대적합에 잘 견디고 있습니다.\n",
    "\n",
    "케라스에서 L2 규제 대신에 다음과 같은 가중치 규제 중 하나를 사용할 수 있습니다:"
   ]
  },
  {
   "cell_type": "markdown",
   "metadata": {
    "collapsed": true
   },
   "source": [
    "```python\n",
    "from keras import regularizers\n",
    "\n",
    "# L1 규제\n",
    "regularizers.l1(0.001)\n",
    "\n",
    "# L1과 L2 규제 병행\n",
    "regularizers.l1_l2(l1=0.001, l2=0.001)\n",
    "```"
   ]
  },
  {
   "cell_type": "markdown",
   "metadata": {},
   "source": [
    "### l1(0.0001) 모델과 비교"
   ]
  },
  {
   "cell_type": "code",
   "execution_count": 18,
   "metadata": {},
   "outputs": [],
   "source": [
    "l1_model = models.Sequential()\n",
    "l1_model.add(layers.Dense(16, kernel_regularizer=regularizers.l1(0.0001),\n",
    "                          activation='relu', input_shape=(10000,)))\n",
    "l1_model.add(layers.Dense(16, kernel_regularizer=regularizers.l1(0.0001),\n",
    "                          activation='relu'))\n",
    "l1_model.add(layers.Dense(1, activation='sigmoid'))"
   ]
  },
  {
   "cell_type": "code",
   "execution_count": 19,
   "metadata": {},
   "outputs": [],
   "source": [
    "l1_model.compile(optimizer='rmsprop',\n",
    "                 loss='binary_crossentropy',\n",
    "                 metrics=['acc'])"
   ]
  },
  {
   "cell_type": "code",
   "execution_count": 20,
   "metadata": {},
   "outputs": [
    {
     "name": "stdout",
     "output_type": "stream",
     "text": [
      "Train on 25000 samples, validate on 25000 samples\n",
      "Epoch 1/20\n",
      "25000/25000 [==============================] - 7s 291us/step - loss: 0.5501 - acc: 0.8246 - val_loss: 0.4248 - val_acc: 0.8734\n",
      "Epoch 2/20\n",
      "25000/25000 [==============================] - 4s 165us/step - loss: 0.3636 - acc: 0.8955 - val_loss: 0.3720 - val_acc: 0.8850\n",
      "Epoch 3/20\n",
      "25000/25000 [==============================] - 3s 111us/step - loss: 0.3272 - acc: 0.9050 - val_loss: 0.3767 - val_acc: 0.8760\n",
      "Epoch 4/20\n",
      "25000/25000 [==============================] - 3s 109us/step - loss: 0.3062 - acc: 0.9137 - val_loss: 0.3541 - val_acc: 0.8877\n",
      "Epoch 5/20\n",
      "25000/25000 [==============================] - 3s 121us/step - loss: 0.2962 - acc: 0.9170 - val_loss: 0.3574 - val_acc: 0.8858\n",
      "Epoch 6/20\n",
      "25000/25000 [==============================] - 4s 142us/step - loss: 0.2886 - acc: 0.9204 - val_loss: 0.3906 - val_acc: 0.8734\n",
      "Epoch 7/20\n",
      "25000/25000 [==============================] - 5s 192us/step - loss: 0.2796 - acc: 0.9240 - val_loss: 0.3799 - val_acc: 0.8798\n",
      "Epoch 8/20\n",
      "25000/25000 [==============================] - 4s 166us/step - loss: 0.2770 - acc: 0.9247 - val_loss: 0.3712 - val_acc: 0.8830\n",
      "Epoch 9/20\n",
      "25000/25000 [==============================] - 3s 126us/step - loss: 0.2742 - acc: 0.9264 - val_loss: 0.3747 - val_acc: 0.8834\n",
      "Epoch 10/20\n",
      "25000/25000 [==============================] - 3s 119us/step - loss: 0.2660 - acc: 0.9312 - val_loss: 0.3775 - val_acc: 0.8816\n",
      "Epoch 11/20\n",
      "25000/25000 [==============================] - 3s 110us/step - loss: 0.2605 - acc: 0.9330 - val_loss: 0.3827 - val_acc: 0.8806\n",
      "Epoch 12/20\n",
      "25000/25000 [==============================] - 3s 108us/step - loss: 0.2630 - acc: 0.9322 - val_loss: 0.3992 - val_acc: 0.8737\n",
      "Epoch 13/20\n",
      "25000/25000 [==============================] - 3s 112us/step - loss: 0.2558 - acc: 0.9358 - val_loss: 0.4155 - val_acc: 0.8708\n",
      "Epoch 14/20\n",
      "25000/25000 [==============================] - 4s 147us/step - loss: 0.2511 - acc: 0.9384 - val_loss: 0.4525 - val_acc: 0.8614\n",
      "Epoch 15/20\n",
      "25000/25000 [==============================] - 7s 265us/step - loss: 0.2479 - acc: 0.9387 - val_loss: 0.4091 - val_acc: 0.8746\n",
      "Epoch 16/20\n",
      "25000/25000 [==============================] - 3s 139us/step - loss: 0.2413 - acc: 0.9422 - val_loss: 0.4386 - val_acc: 0.8630\n",
      "Epoch 17/20\n",
      "25000/25000 [==============================] - 8s 308us/step - loss: 0.2411 - acc: 0.9445 - val_loss: 0.4171 - val_acc: 0.8732\n",
      "Epoch 18/20\n",
      "25000/25000 [==============================] - 4s 146us/step - loss: 0.2337 - acc: 0.9451 - val_loss: 0.4088 - val_acc: 0.8754\n",
      "Epoch 19/20\n",
      "25000/25000 [==============================] - 3s 129us/step - loss: 0.2284 - acc: 0.9491 - val_loss: 0.4152 - val_acc: 0.8745\n",
      "Epoch 20/20\n",
      "25000/25000 [==============================] - 3s 116us/step - loss: 0.2243 - acc: 0.9485 - val_loss: 0.4131 - val_acc: 0.8756\n"
     ]
    }
   ],
   "source": [
    "l1_model_hist = l1_model.fit(x_train, y_train,\n",
    "                             epochs=20,\n",
    "                             batch_size=512,\n",
    "                             validation_data=(x_test, y_test))"
   ]
  },
  {
   "cell_type": "code",
   "execution_count": 21,
   "metadata": {},
   "outputs": [
    {
     "data": {
      "image/png": "[encoded data removed]",
      "text/plain": [
       "<Figure size 432x288 with 1 Axes>"
      ]
     },
     "metadata": {
      "needs_background": "light"
     },
     "output_type": "display_data"
    }
   ],
   "source": [
    "l1_model_val_loss = l1_model_hist.history['val_loss']\n",
    "\n",
    "plt.plot(epochs, original_val_loss, 'b+', label='Original model')\n",
    "plt.plot(epochs, l1_model_val_loss, 'bo', label='L1-regularized model')\n",
    "plt.xlabel('Epochs')\n",
    "plt.ylabel('Validation loss')\n",
    "plt.legend()\n",
    "\n",
    "plt.show()"
   ]
  },
  {
   "cell_type": "markdown",
   "metadata": {},
   "source": [
    "### l1_l2(l1=0.0001, l2=0.0001)모델과 비교"
   ]
  },
  {
   "cell_type": "code",
   "execution_count": 22,
   "metadata": {},
   "outputs": [],
   "source": [
    "l1l2_model = models.Sequential()\n",
    "l1l2_model.add(layers.Dense(16, kernel_regularizer=regularizers.l1_l2(l1=0.0001, l2=0.0001),\n",
    "                            activation='relu', input_shape=(10000,)))\n",
    "l1l2_model.add(layers.Dense(16, kernel_regularizer=regularizers.l1_l2(l1=0.0001, l2=0.0001),\n",
    "                            activation='relu'))\n",
    "l1l2_model.add(layers.Dense(1, activation='sigmoid'))"
   ]
  },
  {
   "cell_type": "code",
   "execution_count": 23,
   "metadata": {},
   "outputs": [],
   "source": [
    "l1l2_model.compile(optimizer='rmsprop',\n",
    "                   loss='binary_crossentropy',\n",
    "                   metrics=['acc'])"
   ]
  },
  {
   "cell_type": "code",
   "execution_count": 24,
   "metadata": {},
   "outputs": [
    {
     "name": "stdout",
     "output_type": "stream",
     "text": [
      "Train on 25000 samples, validate on 25000 samples\n",
      "Epoch 1/20\n",
      "25000/25000 [==============================] - 4s 174us/step - loss: 0.5540 - acc: 0.8171 - val_loss: 0.4448 - val_acc: 0.8562\n",
      "Epoch 2/20\n",
      "25000/25000 [==============================] - 3s 125us/step - loss: 0.3723 - acc: 0.8946 - val_loss: 0.3825 - val_acc: 0.8836\n",
      "Epoch 3/20\n",
      "25000/25000 [==============================] - 3s 109us/step - loss: 0.3349 - acc: 0.9060 - val_loss: 0.3809 - val_acc: 0.8810\n",
      "Epoch 4/20\n",
      "25000/25000 [==============================] - 3s 108us/step - loss: 0.3231 - acc: 0.9089 - val_loss: 0.3648 - val_acc: 0.8871\n",
      "Epoch 5/20\n",
      "25000/25000 [==============================] - 3s 108us/step - loss: 0.3105 - acc: 0.9144 - val_loss: 0.3830 - val_acc: 0.8783\n",
      "Epoch 6/20\n",
      "25000/25000 [==============================] - 5s 202us/step - loss: 0.3046 - acc: 0.9173 - val_loss: 0.3730 - val_acc: 0.8853\n",
      "Epoch 7/20\n",
      "25000/25000 [==============================] - 6s 226us/step - loss: 0.2969 - acc: 0.9190 - val_loss: 0.3725 - val_acc: 0.8845\n",
      "Epoch 8/20\n",
      "25000/25000 [==============================] - 4s 163us/step - loss: 0.2963 - acc: 0.9193 - val_loss: 0.3775 - val_acc: 0.8838\n",
      "Epoch 9/20\n",
      "25000/25000 [==============================] - 3s 131us/step - loss: 0.2883 - acc: 0.9248 - val_loss: 0.3889 - val_acc: 0.8807\n",
      "Epoch 10/20\n",
      "25000/25000 [==============================] - 4s 148us/step - loss: 0.2823 - acc: 0.9263 - val_loss: 0.3817 - val_acc: 0.8832\n",
      "Epoch 11/20\n",
      "25000/25000 [==============================] - 5s 182us/step - loss: 0.2794 - acc: 0.9262 - val_loss: 0.3813 - val_acc: 0.8819\n",
      "Epoch 12/20\n",
      "25000/25000 [==============================] - 5s 185us/step - loss: 0.2747 - acc: 0.9294 - val_loss: 0.3871 - val_acc: 0.8804\n",
      "Epoch 13/20\n",
      "25000/25000 [==============================] - 5s 181us/step - loss: 0.2673 - acc: 0.9327 - val_loss: 0.3916 - val_acc: 0.8796\n",
      "Epoch 14/20\n",
      "25000/25000 [==============================] - 3s 132us/step - loss: 0.2640 - acc: 0.9337 - val_loss: 0.3876 - val_acc: 0.8816\n",
      "Epoch 15/20\n",
      "25000/25000 [==============================] - 5s 190us/step - loss: 0.2574 - acc: 0.9372 - val_loss: 0.4084 - val_acc: 0.8738\n",
      "Epoch 16/20\n",
      "25000/25000 [==============================] - 4s 156us/step - loss: 0.2506 - acc: 0.9391 - val_loss: 0.4168 - val_acc: 0.8726\n",
      "Epoch 17/20\n",
      "25000/25000 [==============================] - 6s 254us/step - loss: 0.2492 - acc: 0.9401 - val_loss: 0.4033 - val_acc: 0.8764\n",
      "Epoch 18/20\n",
      "25000/25000 [==============================] - 6s 247us/step - loss: 0.2432 - acc: 0.9422 - val_loss: 0.4692 - val_acc: 0.8540\n",
      "Epoch 19/20\n",
      "25000/25000 [==============================] - 7s 278us/step - loss: 0.2407 - acc: 0.9406 - val_loss: 0.4193 - val_acc: 0.8748\n",
      "Epoch 20/20\n",
      "25000/25000 [==============================] - 5s 210us/step - loss: 0.2380 - acc: 0.9435 - val_loss: 0.4177 - val_acc: 0.8742\n"
     ]
    }
   ],
   "source": [
    "l1l2_model_hist = l1l2_model.fit(x_train, y_train,\n",
    "                                 epochs=20,\n",
    "                                 batch_size=512,\n",
    "                                 validation_data=(x_test, y_test))"
   ]
  },
  {
   "cell_type": "code",
   "execution_count": 25,
   "metadata": {},
   "outputs": [
    {
     "data": {
      "image/png": "[encoded data removed]",
      "text/plain": [
       "<Figure size 432x288 with 1 Axes>"
      ]
     },
     "metadata": {
      "needs_background": "light"
     },
     "output_type": "display_data"
    }
   ],
   "source": [
    "l1l2_model_val_loss = l1l2_model_hist.history['val_loss']\n",
    "\n",
    "plt.plot(epochs, original_val_loss, 'b+', label='Original model')\n",
    "plt.plot(epochs, l1l2_model_val_loss, 'bo', label='L1,L2-regularized model')\n",
    "plt.xlabel('Epochs')\n",
    "plt.ylabel('Validation loss')\n",
    "plt.legend()\n",
    "\n",
    "plt.show()"
   ]
  },
  {
   "cell_type": "markdown",
   "metadata": {},
   "source": [
    "## 드롭아웃 추가\n",
    "\n",
    "드롭아웃은 토론토 대학의 제프리 힌튼과 그의 학생들이 개발했습니다. 신경망을 위해 사용되는 규제 기법 중에서 가장 효과적이고 널리 사용되는 방법 중에 하나입니다. 네트워크의 층에 드롭아웃을 적용하면 훈련하는 동안 무작위로 층의 일부 출력 특성을 제외시킵니다(0으로 만듭니다). 한 층이 정상적으로 훈련하는 동안에는 어떤 입력 샘플에 대해 `[0.2, 0.5, 1.3, 0.8, 1.1]` 벡터를 출력한다고 가정합시다. 드롭아웃을 적용하면 이 벡터의 일부가 무작위로 0으로 바뀝니다. 예를 들면 `[0, 0.5, 1.3, 0, 1.1]`이 됩니다. 드롭아웃 비율은 0이 될 특성의 비율입니다. 보통 0.2에서 0.5 사이로 지정됩니다. 테스트 단계에서는 어떤 유닛도 드롭아웃되지 않습니다. 대신에 층의 출력을 드롭아웃 비율에 비례하여 줄여 줍니다. 훈련할 때보다 더 많은 유닛이 활성화되기 때문입니다.\n",
    "\n",
    "크기가 `(batch_size, features)`인 한 층의 출력을 담고 있는 넘파이 행렬을 생각해 보겠습니다. 훈련할 때는 이 행렬의 값의 일부가 랜덤하게 0이 됩니다:"
   ]
  },
  {
   "cell_type": "markdown",
   "metadata": {
    "collapsed": true
   },
   "source": [
    "```python\n",
    "# 훈련할 때 유닛의 출력 중 50%를 버립니다\n",
    "layer_output *= np.random.randint(0, high=2, size=layer_output.shape)\n",
    "```"
   ]
  },
  {
   "cell_type": "markdown",
   "metadata": {},
   "source": [
    "테스트할 때는 드롭아웃 비율로 출력을 낮추어 주어야 합니다. 여기에서는 0.5배만큼 스케일을 조정했습니다(앞에서 절반의 유닛을 드롭아웃했으므로):"
   ]
  },
  {
   "cell_type": "markdown",
   "metadata": {
    "collapsed": true
   },
   "source": [
    "```python\n",
    "# 테스트 단계\n",
    "layer_output *= 0.5\n",
    "```"
   ]
  },
  {
   "cell_type": "markdown",
   "metadata": {},
   "source": [
    "훈련 단계에 이 두 연산을 포함시켜 테스트 단계에는 출력을 그대로 두도록 구현할 수 있습니다. 실제로 종종 이런 방식으로 구현합니다:"
   ]
  },
  {
   "cell_type": "markdown",
   "metadata": {
    "collapsed": true
   },
   "source": [
    "```python\n",
    "# 훈련 단계\n",
    "layer_output *= np.randint(0, high=2, size=layer_output.shape)\n",
    "# 여기에서 스케일을 낮추는 대신 높입니다![image.png](attachment:image.png)\n",
    "layer_output /= 0.5\n",
    "```"
   ]
  },
  {
   "cell_type": "markdown",
   "metadata": {},
   "source": [
    "이 기법이 이상하고 무계획적으로 보일 수 있습니다. 왜 드롭아웃이 과대적합을 줄이는 데 도움이 될까요? 힌튼은 은행에서 사용하는 부정 방지 메커니즘에서 착안했다고 합니다. 그의 말을 빌리면 “은행에 갔을 때 행원들이 계속 바뀌길래 왜 그런지를 물었습니다. 자신들도 이유는 모르지만 자주 업무가 바뀐다고 했습니다. 나는 은행에서 부정 행위를 하려면 직원들 사이의 유대가 필요하기 때문이라고 판단했습니다. 각 샘플에 대해 뉴런의 일부를 무작위하게 제거하면 뉴런의 부정한 협업을 방지하고 결국 과대적합을 감소시킨다는 것을 깨달았습니다.\"\n",
    "\n",
    "핵심 아이디어는 층의 출력 값에 노이즈를 추가하여 중요하지 않은 우연한 패턴(힌튼이 이야기한 부정한 협업)을 깨뜨리는 것입니다. 노이즈가 없다면 네트워크가 이 패턴을 기억하기 시작할 것입니다.\n",
    "\n",
    "케라스에서는 층의 출력 바로 뒤에 `Dropout` 층을 추가하여 네트워크에 드롭아웃을 적용할 수 있습니다:"
   ]
  },
  {
   "cell_type": "markdown",
   "metadata": {
    "collapsed": true
   },
   "source": [
    "```python\n",
    "model.add(layers.Dropout(0.5))\n",
    "```"
   ]
  },
  {
   "cell_type": "markdown",
   "metadata": {},
   "source": [
    "IMDB 네트워크에 두 개의 `Dropout` 층을 추가하고 과대적합을 얼마나 줄여주는지 확인해 보겠습니다:"
   ]
  },
  {
   "cell_type": "code",
   "execution_count": 26,
   "metadata": {},
   "outputs": [
    {
     "name": "stderr",
     "output_type": "stream",
     "text": [
      "W0216 20:00:55.681725 4550782400 deprecation.py:506] From /Users/Dodanto/anaconda3/lib/python3.7/site-packages/keras/backend/tensorflow_backend.py:3445: calling dropout (from tensorflow.python.ops.nn_ops) with keep_prob is deprecated and will be removed in a future version.\n",
      "Instructions for updating:\n",
      "Please use `rate` instead of `keep_prob`. Rate should be set to `rate = 1 - keep_prob`.\n"
     ]
    }
   ],
   "source": [
    "dpt_model = models.Sequential()\n",
    "dpt_model.add(layers.Dense(16, activation='relu', input_shape=(10000,)))\n",
    "dpt_model.add(layers.Dropout(0.5))\n",
    "dpt_model.add(layers.Dense(16, activation='relu'))\n",
    "dpt_model.add(layers.Dropout(0.5))\n",
    "dpt_model.add(layers.Dense(1, activation='sigmoid'))\n",
    "\n",
    "dpt_model.compile(optimizer='rmsprop',\n",
    "                  loss='binary_crossentropy',\n",
    "                  metrics=['acc'])"
   ]
  },
  {
   "cell_type": "code",
   "execution_count": 27,
   "metadata": {},
   "outputs": [
    {
     "name": "stdout",
     "output_type": "stream",
     "text": [
      "Train on 25000 samples, validate on 25000 samples\n",
      "Epoch 1/20\n",
      "25000/25000 [==============================] - 10s 384us/step - loss: 0.5972 - acc: 0.6707 - val_loss: 0.4529 - val_acc: 0.8558\n",
      "Epoch 2/20\n",
      "25000/25000 [==============================] - 7s 277us/step - loss: 0.4430 - acc: 0.8176 - val_loss: 0.3418 - val_acc: 0.8836\n",
      "Epoch 3/20\n",
      "25000/25000 [==============================] - 4s 161us/step - loss: 0.3572 - acc: 0.8698 - val_loss: 0.2954 - val_acc: 0.8882\n",
      "Epoch 4/20\n",
      "25000/25000 [==============================] - 5s 196us/step - loss: 0.2976 - acc: 0.9010 - val_loss: 0.2842 - val_acc: 0.8892\n",
      "Epoch 5/20\n",
      "25000/25000 [==============================] - 3s 116us/step - loss: 0.2580 - acc: 0.9139 - val_loss: 0.2818 - val_acc: 0.8898\n",
      "Epoch 6/20\n",
      "25000/25000 [==============================] - 3s 126us/step - loss: 0.2301 - acc: 0.9248 - val_loss: 0.2866 - val_acc: 0.8877\n",
      "Epoch 7/20\n",
      "25000/25000 [==============================] - 3s 124us/step - loss: 0.2083 - acc: 0.9344 - val_loss: 0.3174 - val_acc: 0.8856\n",
      "Epoch 8/20\n",
      "25000/25000 [==============================] - 6s 238us/step - loss: 0.1876 - acc: 0.9392 - val_loss: 0.3225 - val_acc: 0.8862\n",
      "Epoch 9/20\n",
      "25000/25000 [==============================] - 8s 307us/step - loss: 0.1711 - acc: 0.9454 - val_loss: 0.3419 - val_acc: 0.8839\n",
      "Epoch 10/20\n",
      "25000/25000 [==============================] - 4s 142us/step - loss: 0.1572 - acc: 0.9506 - val_loss: 0.3837 - val_acc: 0.8829\n",
      "Epoch 11/20\n",
      "25000/25000 [==============================] - 3s 127us/step - loss: 0.1498 - acc: 0.9529 - val_loss: 0.3824 - val_acc: 0.8809\n",
      "Epoch 12/20\n",
      "25000/25000 [==============================] - 4s 156us/step - loss: 0.1416 - acc: 0.9546 - val_loss: 0.4190 - val_acc: 0.8799\n",
      "Epoch 13/20\n",
      "25000/25000 [==============================] - 5s 189us/step - loss: 0.1361 - acc: 0.9575 - val_loss: 0.4409 - val_acc: 0.8788\n",
      "Epoch 14/20\n",
      "25000/25000 [==============================] - 3s 132us/step - loss: 0.1215 - acc: 0.9623 - val_loss: 0.4698 - val_acc: 0.8795\n",
      "Epoch 15/20\n",
      "25000/25000 [==============================] - 3s 117us/step - loss: 0.1237 - acc: 0.9605 - val_loss: 0.4876 - val_acc: 0.8774\n",
      "Epoch 16/20\n",
      "25000/25000 [==============================] - 5s 202us/step - loss: 0.1181 - acc: 0.9642 - val_loss: 0.4957 - val_acc: 0.8763\n",
      "Epoch 17/20\n",
      "25000/25000 [==============================] - 4s 148us/step - loss: 0.1176 - acc: 0.9642 - val_loss: 0.4944 - val_acc: 0.8726\n",
      "Epoch 18/20\n",
      "25000/25000 [==============================] - 3s 139us/step - loss: 0.1127 - acc: 0.9668 - val_loss: 0.5385 - val_acc: 0.8746\n",
      "Epoch 19/20\n",
      "25000/25000 [==============================] - 3s 139us/step - loss: 0.1049 - acc: 0.9672 - val_loss: 0.5620 - val_acc: 0.8741\n",
      "Epoch 20/20\n",
      "25000/25000 [==============================] - 3s 128us/step - loss: 0.1035 - acc: 0.9679 - val_loss: 0.5809 - val_acc: 0.8748\n"
     ]
    }
   ],
   "source": [
    "dpt_model_hist = dpt_model.fit(x_train, y_train,\n",
    "                               epochs=20,\n",
    "                               batch_size=512,\n",
    "                               validation_data=(x_test, y_test))"
   ]
  },
  {
   "cell_type": "markdown",
   "metadata": {},
   "source": [
    "결과 그래프를 그려 보죠:"
   ]
  },
  {
   "cell_type": "code",
   "execution_count": 28,
   "metadata": {},
   "outputs": [
    {
     "data": {
      "image/png": "[encoded data removed]",
      "text/plain": [
       "<Figure size 432x288 with 1 Axes>"
      ]
     },
     "metadata": {
      "needs_background": "light"
     },
     "output_type": "display_data"
    }
   ],
   "source": [
    "dpt_model_val_loss = dpt_model_hist.history['val_loss']\n",
    "\n",
    "plt.plot(epochs, original_val_loss, 'b+', label='Original model')\n",
    "plt.plot(epochs, dpt_model_val_loss, 'bo', label='Dropout-regularized model')\n",
    "plt.xlabel('Epochs')\n",
    "plt.ylabel('Validation loss')\n",
    "plt.legend()\n",
    "\n",
    "plt.show()"
   ]
  },
  {
   "cell_type": "markdown",
   "metadata": {},
   "source": [
    "여기에서도 기본 네트워크보다 확실히 향상되었습니다.\n",
    "\n",
    "정리하면 신경망에서 과대적합을 방지하기 위해 가장 널리 사용하는 방법은 다음과 같습니다.\n",
    "\n",
    "* 훈련 데이터를 더 모읍니다.\n",
    "* 네트워크의 용량을 감소시킵니다.\n",
    "* 가중치 규제를 추가합니다.\n",
    "* 드롭아웃을 추가합니다"
   ]
  }
 ],
 "metadata": {
  "kernelspec": {
   "display_name": "Python 3",
   "language": "python",
   "name": "python3"
  },
  "language_info": {
   "codemirror_mode": {
    "name": "ipython",
    "version": 3
   },
   "file_extension": ".py",
   "mimetype": "text/x-python",
   "name": "python",
   "nbconvert_exporter": "python",
   "pygments_lexer": "ipython3",
   "version": "3.7.5"
  }
 },
 "nbformat": 4,
 "nbformat_minor": 2
}
